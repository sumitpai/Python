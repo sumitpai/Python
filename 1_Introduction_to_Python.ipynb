{
  "nbformat": 4,
  "nbformat_minor": 0,
  "metadata": {
    "colab": {
      "name": "1. Introduction to Python.ipynb",
      "provenance": [],
      "collapsed_sections": [],
      "toc_visible": true,
      "authorship_tag": "ABX9TyN2y8XFUZeHyVzfRrQBhoon",
      "include_colab_link": true
    },
    "kernelspec": {
      "name": "python3",
      "display_name": "Python 3"
    }
  },
  "cells": [
    {
      "cell_type": "markdown",
      "metadata": {
        "id": "view-in-github",
        "colab_type": "text"
      },
      "source": [
        "<a href=\"https://colab.research.google.com/github/sumitpai/Python/blob/master/1_Introduction_to_Python.ipynb\" target=\"_parent\"><img src=\"https://colab.research.google.com/assets/colab-badge.svg\" alt=\"Open In Colab\"/></a>"
      ]
    },
    {
      "cell_type": "markdown",
      "metadata": {
        "id": "H3g2SQK7IgmL"
      },
      "source": [
        "# Why should you (researchers/staticians) learn programming?\n",
        " \n",
        "- Communication with computer\n",
        "- Prototyping ideas\n",
        "- Automation\n",
        "- Save time\n",
        "- Save money"
      ]
    },
    {
      "cell_type": "markdown",
      "metadata": {
        "id": "FWPMWy8zM791"
      },
      "source": [
        "<br><br><br><br><br><br><br><br><br><br><br><br><br><br>"
      ]
    },
    {
      "cell_type": "markdown",
      "metadata": {
        "id": "4Y555dMG7JA1"
      },
      "source": [
        "# Why Python\n",
        "*   Simple\n",
        "*   Interpreted\n",
        "*   Object Oriented\n",
        "*   High Level APIs – for UI development, web development, statistics, deep learning, etc.\n",
        "*   Extensible - We can wrap code in other languages and use it within python\n",
        "\n",
        "Github released a list of [top ten programming languages](https://octoverse.github.com/) used by it's contributors in 2020. This is how it looks:\n",
        "\n",
        "<img src=\"https://drive.google.com/uc?export=view&id=11YhnBFw67m6tilgcY1xa-Ws5RZqzEMw1\" width=\"70%\" height=\"70%\"/>\n",
        "\n",
        "<br><br><br><br><br><br>\n",
        "\n"
      ]
    },
    {
      "cell_type": "markdown",
      "metadata": {
        "id": "_dECSDsCW_4o"
      },
      "source": [
        "# Rererence Materials for the Course\n",
        "- Python 3 [documentation](https://www.python.org/doc/)\n",
        "- [Python for Everbody](https://www.py4e.com/book.php) book\n",
        "- Google colab notebooks\n",
        "<br><br><br><br><br><br><br><br><br><br><br><br><br><br><br><br><br><br><br><br><br><br><br>\n"
      ]
    },
    {
      "cell_type": "markdown",
      "metadata": {
        "id": "skwhDwki6OX8"
      },
      "source": [
        "# First Python Program\n",
        "\n",
        "Let's write a program that prints \"Hello World\""
      ]
    },
    {
      "cell_type": "code",
      "metadata": {
        "colab": {
          "base_uri": "https://localhost:8080/"
        },
        "id": "ZgwpXpp_6eV6",
        "outputId": "70ae47c6-9682-47e3-bcc0-85eb5d16c8fe"
      },
      "source": [
        "print('Hello World', 'Hi')"
      ],
      "execution_count": null,
      "outputs": [
        {
          "output_type": "stream",
          "text": [
            "Hello World Hi\n"
          ],
          "name": "stdout"
        }
      ]
    },
    {
      "cell_type": "markdown",
      "metadata": {
        "id": "FTLPdty365un"
      },
      "source": [
        "`print` is a built-in **function** that takes in **arguments** which are displayed on the screen. Here we pass a string 'Hello World' which gets printed on the screen.\n",
        "\n",
        "A function can be called by typing its name, followed by open-close parenthesis. Some functions require input arguments. These input values are passed to the function inside the parenthesis.\n",
        "\n",
        "We will explore functions in detail in the next session."
      ]
    },
    {
      "cell_type": "markdown",
      "metadata": {
        "id": "hwqmQJNYCShJ"
      },
      "source": [
        "Python programs are usually written in a file (called **script**) and end with a **.py** extension. To run the program, we invoke the python interpreter and pass the name of the script.\n",
        "\n",
        "\n",
        "```\n",
        "$ python hello.py\n",
        "Hello World\n",
        "```\n",
        "\n"
      ]
    },
    {
      "cell_type": "markdown",
      "metadata": {
        "id": "95Msys3j3w7l"
      },
      "source": [
        "Here is another program which asks the user to enter a name and welcomes the user."
      ]
    },
    {
      "cell_type": "code",
      "metadata": {
        "colab": {
          "base_uri": "https://localhost:8080/"
        },
        "id": "jsrAi4y63vtZ",
        "outputId": "c862fb34-e12a-47f3-9417-1fef072ccc1b"
      },
      "source": [
        "user_name = input('Enter your name: ')\n",
        "print('Hello ', user_name, '. Welcome to the class of Python Programming.')"
      ],
      "execution_count": null,
      "outputs": [
        {
          "output_type": "stream",
          "text": [
            "Enter your name: Sumit\n",
            "Hello  Sumit . Welcome to the class of Python Programming.\n"
          ],
          "name": "stdout"
        }
      ]
    },
    {
      "cell_type": "markdown",
      "metadata": {
        "id": "n4e-GrKI4V8s"
      },
      "source": [
        "`input` is another useful function, which takes in an argument which is displayed on the screen. It waits for user to enter some value and returns the value as a string back to the program. You can store the value and use it for different purposes in your script."
      ]
    },
    {
      "cell_type": "markdown",
      "metadata": {
        "id": "mqsOQd8LfbEQ"
      },
      "source": [
        "You may also notice that the `print` function can take multiple arguments as inputs. All the inputs to the `print` function are **evaluated** and displayed on the screen.\n",
        "\n",
        "<br><br><br><br><br><br><br><br><br><br><br><br>"
      ]
    },
    {
      "cell_type": "markdown",
      "metadata": {
        "id": "aSwzGsySV2Su"
      },
      "source": [
        "# Variables, Expressions and Statements"
      ]
    },
    {
      "cell_type": "markdown",
      "metadata": {
        "id": "ttiy42zLBwtq"
      },
      "source": [
        "\n",
        "## Variables"
      ]
    },
    {
      "cell_type": "markdown",
      "metadata": {
        "id": "gHjtYHuXB3oL"
      },
      "source": [
        "Variable refers to a memory location where the data is stored. We can create a variable and assign a value to it using the assignment operator '='. \n",
        "\n",
        "```\n",
        "variable_name = value\n",
        "```\n",
        "A variable must be **initialized** before it can be used. One way to initialize the variable is using the above syntax."
      ]
    },
    {
      "cell_type": "code",
      "metadata": {
        "id": "Fz4W4NG7HFhb"
      },
      "source": [
        "name = 'Sumit'\n"
      ],
      "execution_count": null,
      "outputs": []
    },
    {
      "cell_type": "markdown",
      "metadata": {
        "id": "oeZ7D78MHUEp"
      },
      "source": [
        "The above assignment just stores the string value 'Sumit' in the variable `name`.\n",
        "\n",
        "To display the contents of the variable, you can use the print function and pass the variable to print as an argument."
      ]
    },
    {
      "cell_type": "code",
      "metadata": {
        "colab": {
          "base_uri": "https://localhost:8080/"
        },
        "id": "Dkpgs3QMH4jB",
        "outputId": "4cc05e37-0df7-470e-a4d3-eb04987dede2"
      },
      "source": [
        "print(name)"
      ],
      "execution_count": null,
      "outputs": [
        {
          "output_type": "stream",
          "text": [
            "Sumit\n"
          ],
          "name": "stdout"
        }
      ]
    },
    {
      "cell_type": "code",
      "metadata": {
        "colab": {
          "base_uri": "https://localhost:8080/"
        },
        "id": "mFdZ9CoNICAA",
        "outputId": "007f0e26-7279-4a67-bc14-0a9b76764905"
      },
      "source": [
        "height_in_cms = 172\n",
        "print('Height:', height_in_cms, 'cm')"
      ],
      "execution_count": null,
      "outputs": [
        {
          "output_type": "stream",
          "text": [
            "Height: 172 cm\n"
          ],
          "name": "stdout"
        }
      ]
    },
    {
      "cell_type": "markdown",
      "metadata": {
        "id": "ladB1lhMLOD4"
      },
      "source": [
        "`height_in_cms` is a variable which stores `int` or integer value. Let us now convert this to feet."
      ]
    },
    {
      "cell_type": "code",
      "metadata": {
        "colab": {
          "base_uri": "https://localhost:8080/"
        },
        "id": "F_X1u9qsLuoS",
        "outputId": "7b29f49e-0d43-49ef-d3a9-dd46375bc78d"
      },
      "source": [
        "height_in_ft = height_in_cms / 30.48\n",
        "print('Height:', height_in_ft, 'ft')"
      ],
      "execution_count": null,
      "outputs": [
        {
          "output_type": "stream",
          "text": [
            "Height: 5.6430446194225725 ft\n"
          ],
          "name": "stdout"
        }
      ]
    },
    {
      "cell_type": "markdown",
      "metadata": {
        "id": "ZUAkfrExgedW"
      },
      "source": [
        "You will notice that the displayed result is not integer. It is floating point value."
      ]
    },
    {
      "cell_type": "markdown",
      "metadata": {
        "id": "xV4hQ7yKO_gK"
      },
      "source": [
        "### Variable Type\n",
        "To know the type of variable, use the `type` function and pass the variable as argument."
      ]
    },
    {
      "cell_type": "code",
      "metadata": {
        "colab": {
          "base_uri": "https://localhost:8080/"
        },
        "id": "3su9nJEQPR71",
        "outputId": "16f3b1b3-512b-4028-c50f-67ee8fc853d3"
      },
      "source": [
        "print(type(name))\n",
        "print(type(height_in_cms))\n",
        "print(type(height_in_ft))\n"
      ],
      "execution_count": null,
      "outputs": [
        {
          "output_type": "stream",
          "text": [
            "<class 'str'>\n",
            "<class 'int'>\n",
            "<class 'float'>\n"
          ],
          "name": "stdout"
        }
      ]
    },
    {
      "cell_type": "markdown",
      "metadata": {
        "id": "DVs2HXipPPRP"
      },
      "source": [
        "<br><br><br><br><br><br><br><br><br><br><br><br>"
      ]
    },
    {
      "cell_type": "markdown",
      "metadata": {
        "id": "z24quQ15Mf-7"
      },
      "source": [
        "### Naming rules and guidelines\n",
        "Rules:\n",
        "- Variable names should start with a letter or underscore\n",
        "- Variable names can contain character, number or underscore\n",
        "- Variable names cannot be [keywords](https://docs.python.org/3/reference/lexical_analysis.html#keywords)\n",
        "\n",
        "Syntatically correct names:\n",
        "\n",
        "```name, height_in_cms, name134, for_```\n",
        "\n",
        "Syntatically incorrect names:\n",
        "\n",
        "```1name, height in cms, name@134, for```\n",
        "\n",
        "If you use incorrect names, you will get syntax errors"
      ]
    },
    {
      "cell_type": "code",
      "metadata": {
        "colab": {
          "base_uri": "https://localhost:8080/",
          "height": 129
        },
        "id": "4aa6Z6viSQVW",
        "outputId": "0eb1e147-2171-4992-dcff-aca8413777d0"
      },
      "source": [
        "for = 10"
      ],
      "execution_count": null,
      "outputs": [
        {
          "output_type": "error",
          "ename": "SyntaxError",
          "evalue": "ignored",
          "traceback": [
            "\u001b[0;36m  File \u001b[0;32m\"<ipython-input-12-597287a2d762>\"\u001b[0;36m, line \u001b[0;32m1\u001b[0m\n\u001b[0;31m    for = 10\u001b[0m\n\u001b[0m        ^\u001b[0m\n\u001b[0;31mSyntaxError\u001b[0m\u001b[0;31m:\u001b[0m invalid syntax\n"
          ]
        }
      ]
    },
    {
      "cell_type": "markdown",
      "metadata": {
        "id": "iIp7XBkgS_Sh"
      },
      "source": [
        "Apart from the above rules, to make the code readable, there are various guidelines which a programmer usually follows. One such style is [PEP-8](https://www.python.org/dev/peps/pep-0008/). \n",
        "\n",
        "According to PEP-8, a variable name must be lowercase single letter, word or words. If using words, separate them with underscore.\n",
        "\n",
        "If you do not follow these guidelines, you wont get syntax errors and the script will run normally."
      ]
    },
    {
      "cell_type": "code",
      "metadata": {
        "colab": {
          "base_uri": "https://localhost:8080/"
        },
        "id": "Fiet8sMXUxMu",
        "outputId": "54154805-847d-419a-f95c-eee533afb8e3"
      },
      "source": [
        "He_IGh_tInC_mS = 172\n",
        "print(He_IGh_tInC_mS)\n"
      ],
      "execution_count": null,
      "outputs": [
        {
          "output_type": "stream",
          "text": [
            "172\n"
          ],
          "name": "stdout"
        }
      ]
    },
    {
      "cell_type": "markdown",
      "metadata": {
        "id": "Je3b2QxVQ1_V"
      },
      "source": [
        "<br><br><br><br><br><br><br><br><br><br><br><br>"
      ]
    },
    {
      "cell_type": "markdown",
      "metadata": {
        "id": "HtkpbUy3hUuw"
      },
      "source": [
        "### Problem\n",
        "\n",
        "Get an input from the user(say \"Sumit\") and display \"Hello Sumit\"\n",
        "\n",
        "Hint:\n",
        "- use `input` function\n",
        "- store results in a variable\n",
        "- display the result by passing arguments to `print` function"
      ]
    },
    {
      "cell_type": "code",
      "metadata": {
        "id": "enOnsyXdAeXs"
      },
      "source": [
        ""
      ],
      "execution_count": null,
      "outputs": []
    },
    {
      "cell_type": "markdown",
      "metadata": {
        "id": "z6ej0fuUw1kx"
      },
      "source": [
        "#### Solution"
      ]
    },
    {
      "cell_type": "code",
      "metadata": {
        "colab": {
          "base_uri": "https://localhost:8080/"
        },
        "id": "T31Adlbxw4Oi",
        "outputId": "3c598117-eebd-4bb6-f127-ebeed4540843"
      },
      "source": [
        "name = input('Enter your name:')\n",
        "print('Hello ', name)"
      ],
      "execution_count": null,
      "outputs": [
        {
          "output_type": "stream",
          "text": [
            "Enter your name:Sumit\n",
            "Hello  Sumit\n"
          ],
          "name": "stdout"
        }
      ]
    },
    {
      "cell_type": "markdown",
      "metadata": {
        "id": "XivLAr1vQ5CL"
      },
      "source": [
        "<br><br><br><br><br><br><br><br><br><br><br><br>"
      ]
    },
    {
      "cell_type": "markdown",
      "metadata": {
        "id": "iAfBawZ8VvXB"
      },
      "source": [
        "## Statements\n",
        "\n",
        "A statement is a basic unit of code which a python interpreter can execute. A script consists of multiple statements. Interpreter executes the statements as it encounters them."
      ]
    },
    {
      "cell_type": "code",
      "metadata": {
        "colab": {
          "base_uri": "https://localhost:8080/",
          "height": 246
        },
        "id": "kVtV-YbCblgJ",
        "outputId": "c9e10557-828f-4671-c5ac-c528b37055c7"
      },
      "source": [
        "name = 'Sumit'\n",
        "print('Name:', name)\n",
        "\n",
        "print('Company:', company_name)\n",
        "company_name = 'Accenture'\n",
        "\n",
        "birth_country = 'India'\n",
        "print('Birth Place:', birth_country)\n"
      ],
      "execution_count": null,
      "outputs": [
        {
          "output_type": "stream",
          "text": [
            "Name: Sumit\n"
          ],
          "name": "stdout"
        },
        {
          "output_type": "error",
          "ename": "NameError",
          "evalue": "ignored",
          "traceback": [
            "\u001b[0;31m---------------------------------------------------------------------------\u001b[0m",
            "\u001b[0;31mNameError\u001b[0m                                 Traceback (most recent call last)",
            "\u001b[0;32m<ipython-input-20-93682ef1138a>\u001b[0m in \u001b[0;36m<module>\u001b[0;34m()\u001b[0m\n\u001b[1;32m      2\u001b[0m \u001b[0mprint\u001b[0m\u001b[0;34m(\u001b[0m\u001b[0;34m'Name:'\u001b[0m\u001b[0;34m,\u001b[0m \u001b[0mname\u001b[0m\u001b[0;34m)\u001b[0m\u001b[0;34m\u001b[0m\u001b[0;34m\u001b[0m\u001b[0m\n\u001b[1;32m      3\u001b[0m \u001b[0;34m\u001b[0m\u001b[0m\n\u001b[0;32m----> 4\u001b[0;31m \u001b[0mprint\u001b[0m\u001b[0;34m(\u001b[0m\u001b[0;34m'Company:'\u001b[0m\u001b[0;34m,\u001b[0m \u001b[0mcompany_name\u001b[0m\u001b[0;34m)\u001b[0m\u001b[0;34m\u001b[0m\u001b[0;34m\u001b[0m\u001b[0m\n\u001b[0m\u001b[1;32m      5\u001b[0m \u001b[0mcompany_name\u001b[0m \u001b[0;34m=\u001b[0m \u001b[0;34m'Accenture'\u001b[0m\u001b[0;34m\u001b[0m\u001b[0;34m\u001b[0m\u001b[0m\n\u001b[1;32m      6\u001b[0m \u001b[0;34m\u001b[0m\u001b[0m\n",
            "\u001b[0;31mNameError\u001b[0m: name 'company_name' is not defined"
          ]
        }
      ]
    },
    {
      "cell_type": "markdown",
      "metadata": {
        "id": "Z9iFtUF2Q9Fu"
      },
      "source": [
        "<br><br><br><br><br><br><br><br><br><br><br><br>"
      ]
    },
    {
      "cell_type": "markdown",
      "metadata": {
        "id": "Wo_2JjZfmzCZ"
      },
      "source": [
        "## Expression\n",
        "An expression is a combination of value, variable, operators and function calls. Interpreter evaluates an expression and produces a value. Values and variables by itself are expressions."
      ]
    },
    {
      "cell_type": "code",
      "metadata": {
        "colab": {
          "base_uri": "https://localhost:8080/"
        },
        "id": "wWR-yhWcevSJ",
        "outputId": "7474cd1d-11f2-4e27-a6d7-2386a6f50adb"
      },
      "source": [
        "1 + 5"
      ],
      "execution_count": null,
      "outputs": [
        {
          "output_type": "execute_result",
          "data": {
            "text/plain": [
              "6"
            ]
          },
          "metadata": {
            "tags": []
          },
          "execution_count": 24
        }
      ]
    },
    {
      "cell_type": "code",
      "metadata": {
        "colab": {
          "base_uri": "https://localhost:8080/",
          "height": 35
        },
        "id": "w-qb95v2ouUB",
        "outputId": "b3832d71-386f-4bb8-f877-dd76ada16663"
      },
      "source": [
        "name"
      ],
      "execution_count": null,
      "outputs": [
        {
          "output_type": "execute_result",
          "data": {
            "application/vnd.google.colaboratory.intrinsic+json": {
              "type": "string"
            },
            "text/plain": [
              "'Sumit'"
            ]
          },
          "metadata": {
            "tags": []
          },
          "execution_count": 21
        }
      ]
    },
    {
      "cell_type": "markdown",
      "metadata": {
        "id": "biNrq9S1WmYm"
      },
      "source": [
        "Expressions, when evaluated by the interpreter, always return a value. It can be assigned to a variable using assignment statements."
      ]
    },
    {
      "cell_type": "markdown",
      "metadata": {
        "id": "38osLOMHQ_kr"
      },
      "source": [
        "<br><br><br><br><br><br><br><br><br><br><br><br>"
      ]
    },
    {
      "cell_type": "markdown",
      "metadata": {
        "id": "AmR52S8qaJrp"
      },
      "source": [
        "## Operators and Operands\n",
        "\n",
        "**Operators** are some special symbols that perform certain operations on values and variables. The values and variables on which they act are called **operands**."
      ]
    },
    {
      "cell_type": "markdown",
      "metadata": {
        "id": "YGDyr1UcREjU"
      },
      "source": [
        "<br><br><br><br><br><br><br><br><br><br><br><br><br><br><br><br><br><br><br><br><br><br><br><br>"
      ]
    },
    {
      "cell_type": "markdown",
      "metadata": {
        "id": "QS_IM3fGeWfk"
      },
      "source": [
        "### Unary Operators\n",
        "\n",
        "These operator operate only on 1 operand. \n",
        "<table>\n",
        "    <thead>\n",
        "        <tr>\n",
        "            <td>Operator</td>\n",
        "            <td>Meaning</td>\n",
        "            <td>Example</td>\n",
        "        </tr>\n",
        "    </thead>\n",
        "    <tbody>\n",
        "        <tr>\n",
        "            <td> + </td>\n",
        "            <td>Unary Plus</td>\n",
        "            <td>+ 2</td>\n",
        "        </tr>\n",
        "        <tr>\n",
        "            <td> - </td>\n",
        "            <td>Unary Minus</td>\n",
        "            <td>- 6</td>\n",
        "        </tr>\n",
        "    </tbody>\n",
        "</table>\n"
      ]
    },
    {
      "cell_type": "code",
      "metadata": {
        "colab": {
          "base_uri": "https://localhost:8080/"
        },
        "id": "9YR2pqqOnaqu",
        "outputId": "c1bc5c8f-5ad0-4bcd-ac0f-8f964acf5308"
      },
      "source": [
        "x = 1\n",
        "print('Value of x is ', x)\n",
        "y = x + 10\n",
        "print('Value of y is ', y)"
      ],
      "execution_count": null,
      "outputs": [
        {
          "output_type": "stream",
          "text": [
            "Value of x is  -1\n",
            "Value of y is  9\n"
          ],
          "name": "stdout"
        }
      ]
    },
    {
      "cell_type": "markdown",
      "metadata": {
        "id": "q82nCZmyROvL"
      },
      "source": [
        "<br><br><br><br><br><br><br><br><br><br><br><br><br><br><br><br><br>"
      ]
    },
    {
      "cell_type": "markdown",
      "metadata": {
        "id": "dMGbrxZCKSiN"
      },
      "source": [
        "### Arithmetic Operators\n",
        "These operators perform certain numerical operations on their operands\n",
        "<table>\n",
        "    <thead>\n",
        "        <tr>\n",
        "            <td>Operator</td>\n",
        "            <td>Meaning</td>\n",
        "            <td>Expression(Eg.)</td>\n",
        "            <td>Evaluated Value</td>\n",
        "        </tr>\n",
        "    </thead>\n",
        "    <tbody>\n",
        "        <tr>\n",
        "            <td> + </td>\n",
        "            <td>Addition</td>\n",
        "            <td>10 + 2</td>\n",
        "            <td>12</td>\n",
        "        </tr>\n",
        "        <tr>\n",
        "            <td> - </td>\n",
        "            <td>Subtraction</td>\n",
        "            <td>8 - 6</td>\n",
        "            <td>2</td>\n",
        "        </tr>\n",
        "        <tr>\n",
        "            <td> * </td>\n",
        "            <td>Multiplication</td>\n",
        "            <td>11 * 8</td>\n",
        "            <td>88</td>\n",
        "        </tr>\n",
        "        <tr>\n",
        "            <td> / </td>\n",
        "            <td>Division</td>\n",
        "            <td>22 / 4</td>\n",
        "            <td>5.5</td>\n",
        "        </tr>\n",
        "        <tr>\n",
        "            <td> // </td>\n",
        "            <td>Floor Division</td>\n",
        "            <td>22 // 4</td>\n",
        "            <td>5</td>\n",
        "        </tr>\n",
        "        <tr>\n",
        "            <td> % </td>\n",
        "            <td>Modulo</td>\n",
        "            <td>22 % 4</td>\n",
        "            <td>2</td>\n",
        "        </tr>\n",
        "        <tr>\n",
        "            <td> ** </td>\n",
        "            <td>Exponentation</td>\n",
        "            <td>2 ** 4</td>\n",
        "            <td>16</td>\n",
        "        </tr>\n",
        "    </tbody>\n",
        "</table>"
      ]
    },
    {
      "cell_type": "code",
      "metadata": {
        "colab": {
          "base_uri": "https://localhost:8080/"
        },
        "id": "D5T4B3BIK0bQ",
        "outputId": "9cdad54d-d0c0-462e-90ae-e924cd90a873"
      },
      "source": [
        "22 / 4 # dividing a value by another value"
      ],
      "execution_count": null,
      "outputs": [
        {
          "output_type": "execute_result",
          "data": {
            "text/plain": [
              "5.5"
            ]
          },
          "metadata": {
            "tags": []
          },
          "execution_count": 27
        }
      ]
    },
    {
      "cell_type": "code",
      "metadata": {
        "colab": {
          "base_uri": "https://localhost:8080/"
        },
        "id": "9dHQEeRrLC-q",
        "outputId": "4e9d32c8-57f6-4b9f-e470-bb079ddecbb3"
      },
      "source": [
        "a = 22\n",
        "b = 4\n",
        "a // b # Floor division of a variable with another variable"
      ],
      "execution_count": null,
      "outputs": [
        {
          "output_type": "execute_result",
          "data": {
            "text/plain": [
              "5"
            ]
          },
          "metadata": {
            "tags": []
          },
          "execution_count": 28
        }
      ]
    },
    {
      "cell_type": "code",
      "metadata": {
        "colab": {
          "base_uri": "https://localhost:8080/"
        },
        "id": "1GIFsn7lLGHL",
        "outputId": "456d09bf-7d68-45e6-84eb-2b26f4a7b769"
      },
      "source": [
        "a % 4 # Modulus operation of a variable by a value"
      ],
      "execution_count": null,
      "outputs": [
        {
          "output_type": "execute_result",
          "data": {
            "text/plain": [
              "2"
            ]
          },
          "metadata": {
            "tags": []
          },
          "execution_count": 29
        }
      ]
    },
    {
      "cell_type": "markdown",
      "metadata": {
        "id": "PYpTmffARX21"
      },
      "source": [
        "<br><br><br><br><br><br><br><br>"
      ]
    },
    {
      "cell_type": "markdown",
      "metadata": {
        "id": "G5EYzEDks8Ob"
      },
      "source": [
        "You can group expressions using the **parenthesis operator**"
      ]
    },
    {
      "cell_type": "code",
      "metadata": {
        "colab": {
          "base_uri": "https://localhost:8080/"
        },
        "id": "nXub_UyetDCI",
        "outputId": "ff59ec5c-b3b1-412c-b1e6-8aa0f716044e"
      },
      "source": [
        "(3 + 2) * 10 * (6 + 4)"
      ],
      "execution_count": null,
      "outputs": [
        {
          "output_type": "execute_result",
          "data": {
            "text/plain": [
              "500"
            ]
          },
          "metadata": {
            "tags": []
          },
          "execution_count": 33
        }
      ]
    },
    {
      "cell_type": "markdown",
      "metadata": {
        "id": "kI72FXTsP_sa"
      },
      "source": [
        "**Note:** Without explictly using the print statements, notebooks display the evaluated value of the last expression in a cell. \n"
      ]
    },
    {
      "cell_type": "code",
      "metadata": {
        "colab": {
          "base_uri": "https://localhost:8080/"
        },
        "id": "OrZI5wrHRDsa",
        "outputId": "fcbae9d3-c417-44d6-ade8-0965076dfb82"
      },
      "source": [
        "a = 22\n",
        "a % 2\n",
        "print(a % 3)\n",
        "a % 4"
      ],
      "execution_count": null,
      "outputs": [
        {
          "output_type": "stream",
          "text": [
            "1\n"
          ],
          "name": "stdout"
        },
        {
          "output_type": "execute_result",
          "data": {
            "text/plain": [
              "2"
            ]
          },
          "metadata": {
            "tags": []
          },
          "execution_count": 39
        }
      ]
    },
    {
      "cell_type": "markdown",
      "metadata": {
        "id": "qYjIJQ7pRxY1"
      },
      "source": [
        "If it were a python script, it would not have been printed without the print statement.\n",
        "\n",
        "```\n",
        "# test.py file\n",
        "a = 22\n",
        "a % 2\n",
        "print(a % 3)\n",
        "a % 4\n",
        "```\n",
        "```\n",
        "$ python test.py\n",
        "1\n",
        "```"
      ]
    },
    {
      "cell_type": "markdown",
      "metadata": {
        "id": "aykACgczRdUp"
      },
      "source": [
        "<br><br><br><br><br><br><br><br><br><br>"
      ]
    },
    {
      "cell_type": "markdown",
      "metadata": {
        "id": "rRKf9H6XrgYY"
      },
      "source": [
        "Consider the following expression. Unlike a simple calculator, the expression is evaluated as per standard mathematical rules. The precedence is given as follows:\n",
        "- Parenthesis\n",
        "- Exponential\n",
        "- Multiplication, Division, Modulo\n",
        "- Addition, Subtraction"
      ]
    },
    {
      "cell_type": "code",
      "metadata": {
        "colab": {
          "base_uri": "https://localhost:8080/"
        },
        "id": "F4LAV42Kr72K",
        "outputId": "004e84e5-5463-4468-e869-60deea8878b7"
      },
      "source": [
        "3 + 4 * 5 * (3 * (1 + 2) + 1)"
      ],
      "execution_count": null,
      "outputs": [
        {
          "output_type": "execute_result",
          "data": {
            "text/plain": [
              "203"
            ]
          },
          "metadata": {
            "tags": []
          },
          "execution_count": 41
        }
      ]
    },
    {
      "cell_type": "markdown",
      "metadata": {
        "id": "EoXUUp0PRgVZ"
      },
      "source": [
        "<br><br><br><br><br><br><br><br><br><br><br><br><br><br><br><br>"
      ]
    },
    {
      "cell_type": "markdown",
      "metadata": {
        "id": "fbziNLMNK8Ah"
      },
      "source": [
        "### Comparision Operators\n",
        "\n",
        "These operators are used to compare operands and return the evaluated truth values (boolean).\n",
        "\n",
        "<table>\n",
        "    <thead>\n",
        "        <tr>\n",
        "            <td>Operator</td>\n",
        "            <td>Meaning</td>\n",
        "            <td>Expression(Eg.)</td>\n",
        "            <td>Evaluated Value</td>\n",
        "        </tr>\n",
        "    </thead>\n",
        "    <tbody>\n",
        "        <tr>\n",
        "            <td> == </td>\n",
        "            <td>Equals</td>\n",
        "            <td> 4 == 5 </td>\n",
        "            <td>False</td>\n",
        "        </tr>\n",
        "        <tr>\n",
        "            <td> != </td>\n",
        "            <td>Not Equals</td>\n",
        "            <td> 4 != 5 </td>\n",
        "            <td>True</td>\n",
        "        </tr>\n",
        "        <tr>\n",
        "            <td> > </td>\n",
        "            <td>Greater than</td>\n",
        "            <td> 15 > 15 </td>\n",
        "            <td>False</td>\n",
        "        </tr>\n",
        "        <tr>\n",
        "            <td> >= </td>\n",
        "            <td>Greater than or Equal to</td>\n",
        "            <td> 15 >= 15 </td>\n",
        "            <td>True</td>\n",
        "        </tr>\n",
        "        <tr>\n",
        "            <td> < </td>\n",
        "            <td>Less Than</td>\n",
        "            <td> 15 < 15 </td>\n",
        "            <td>False</td>\n",
        "        </tr>\n",
        "        <tr>\n",
        "            <td> <= </td>\n",
        "            <td>Less than or Equal to</td>\n",
        "            <td> 15 <= 15 </td>\n",
        "            <td>True</td>\n",
        "        </tr>\n",
        "    </tbody>\n",
        "</table>\n"
      ]
    },
    {
      "cell_type": "code",
      "metadata": {
        "colab": {
          "base_uri": "https://localhost:8080/"
        },
        "id": "eBpEbof9UX84",
        "outputId": "28d34d5f-3f50-4d96-b861-48a8a83bfbe3"
      },
      "source": [
        "4 == 5"
      ],
      "execution_count": null,
      "outputs": [
        {
          "output_type": "execute_result",
          "data": {
            "text/plain": [
              "False"
            ]
          },
          "metadata": {
            "tags": []
          },
          "execution_count": 43
        }
      ]
    },
    {
      "cell_type": "code",
      "metadata": {
        "colab": {
          "base_uri": "https://localhost:8080/"
        },
        "id": "RmgOSo1JUcUA",
        "outputId": "6d1b7f1e-599d-4700-c029-bd6fe002510f"
      },
      "source": [
        "a = 10\n",
        "b = 2\n",
        "\n",
        "# Here we are evaluating the expression in the parenthesis and comparing if the resulting value is 0\n",
        "(a % b) == 0"
      ],
      "execution_count": null,
      "outputs": [
        {
          "output_type": "execute_result",
          "data": {
            "text/plain": [
              "True"
            ]
          },
          "metadata": {
            "tags": []
          },
          "execution_count": 21
        }
      ]
    },
    {
      "cell_type": "markdown",
      "metadata": {
        "id": "GbGRsTmRRlDt"
      },
      "source": [
        "<br><br><br><br><br><br><br><br>"
      ]
    },
    {
      "cell_type": "markdown",
      "metadata": {
        "id": "N_tg3vSaW7hq"
      },
      "source": [
        "### Logical Operators\n",
        "\n",
        "There operators are used to perform logical operation on their operands and return the truth value (boolean).\n",
        "\n",
        "<table>\n",
        "    <thead>\n",
        "        <tr>\n",
        "            <td>Operator</td>\n",
        "            <td>Meaning</td>\n",
        "            <td>Expression(Eg.)</td>\n",
        "            <td>Evaluated Value</td>\n",
        "        </tr>\n",
        "    </thead>\n",
        "    <tbody>\n",
        "        <tr>\n",
        "            <td> and </td>\n",
        "            <td> Logical And </td>\n",
        "            <td> True and False </td>\n",
        "            <td> False </td>\n",
        "        </tr>\n",
        "        <tr>\n",
        "            <td> or </td>\n",
        "            <td> Logical Or </td>\n",
        "            <td> True or False </td>\n",
        "            <td> True </td>\n",
        "        </tr>\n",
        "        <tr>\n",
        "            <td> not </td>\n",
        "            <td> Logical Not </td>\n",
        "            <td> not True </td>\n",
        "            <td> False </td>\n",
        "        </tr>\n",
        "    </tbody>\n",
        "</table>"
      ]
    },
    {
      "cell_type": "markdown",
      "metadata": {
        "id": "UsrzyS5BRo77"
      },
      "source": [
        "<br><br><br><br><br><br><br><br><br><br><br><br><br><br><br><br><br><br><br><br>"
      ]
    },
    {
      "cell_type": "markdown",
      "metadata": {
        "id": "opxph3yyafzI"
      },
      "source": [
        "Consider the following statements:\n",
        "```\n",
        "You will pass the exam if:\n",
        "- You get > 60 in the theory test\n",
        "- You get > 80 in the practical test\n",
        "```\n",
        "\n",
        "Say you scored 65 in theory and 70 in practical. Did you pass the test?\n",
        "\n",
        "Depends on the condition between the two criterias (AND / OR)"
      ]
    },
    {
      "cell_type": "code",
      "metadata": {
        "id": "764tuulKZJEL"
      },
      "source": [
        "# Create two variables and store the scores\n",
        "theory_test_score = 65\n",
        "practical_test_score = 70"
      ],
      "execution_count": null,
      "outputs": []
    },
    {
      "cell_type": "code",
      "metadata": {
        "colab": {
          "base_uri": "https://localhost:8080/"
        },
        "id": "BcvFl9Phb6Zs",
        "outputId": "cc1cda93-ad16-43e6-c609-fd830e3e0e10"
      },
      "source": [
        "# Compare the scores with the passing scores \n",
        "\n",
        "# OR \n",
        "pass_fail_or_criteria = theory_test_score > 60 or practical_test_score > 80 # True or False\n",
        "print('Did you pass the test (OR between the criteria)?:', pass_fail_or_criteria)\n",
        "\n",
        "# AND \n",
        "pass_fail_and_criteria = theory_test_score > 60 and practical_test_score > 80 # True and False\n",
        "print('Did you pass the test (AND between the criteria)?:', pass_fail_and_criteria)"
      ],
      "execution_count": null,
      "outputs": [
        {
          "output_type": "stream",
          "text": [
            "Did you pass the test (OR between the criteria)?: True\n",
            "Did you pass the test (AND between the criteria)?: False\n"
          ],
          "name": "stdout"
        }
      ]
    },
    {
      "cell_type": "markdown",
      "metadata": {
        "id": "bM06IHEjRsrR"
      },
      "source": [
        "<br><br><br><br><br><br><br><br><br><br><br><br>"
      ]
    },
    {
      "cell_type": "markdown",
      "metadata": {
        "id": "QBcCnSdVlxWc"
      },
      "source": [
        "Consider the following statement:\n",
        "```\n",
        "If you did not fail the test, then you passed it\n",
        "```\n",
        "\n",
        "You get to know that you did not fail the test. Did you pass the test?"
      ]
    },
    {
      "cell_type": "code",
      "metadata": {
        "colab": {
          "base_uri": "https://localhost:8080/"
        },
        "id": "ZehTWjtglwFe",
        "outputId": "4b519887-b43d-421c-f2fb-48d11116ac45"
      },
      "source": [
        "failed = False\n",
        "print('Did you pass the test?', not failed)"
      ],
      "execution_count": null,
      "outputs": [
        {
          "output_type": "stream",
          "text": [
            "Did you pass the test? True\n"
          ],
          "name": "stdout"
        }
      ]
    },
    {
      "cell_type": "markdown",
      "metadata": {
        "id": "MpW5CmhMRvLl"
      },
      "source": [
        "<br><br><br><br><br><br><br><br><br><br><br><br><br><br><br><br>"
      ]
    },
    {
      "cell_type": "markdown",
      "metadata": {
        "id": "e0uhUQnteX5A"
      },
      "source": [
        "####Truth Tables\n",
        "\n",
        "<table>\n",
        "  <td>\n",
        "    <table>\n",
        "      <tr>\n",
        "        <td> <b> AND </b> </td>\n",
        "        <td> <b> False </b> </td>\n",
        "        <td> <b> True </b> </td>\n",
        "      </tr>\n",
        "      <tr>\n",
        "        <td> <b> False </b> </td>\n",
        "        <td> False </td>\n",
        "        <td> False </td>\n",
        "      </tr>\n",
        "      <tr>\n",
        "        <td> <b> True </b> </td>\n",
        "        <td> False </td>\n",
        "        <td> True </td>\n",
        "      </tr>\n",
        "    </table>\n",
        "  </td>\n",
        "  <td>\n",
        "  </td>\n",
        "  <td>\n",
        "  </td>\n",
        "  <td>\n",
        "    <table>\n",
        "      <tr>\n",
        "        <td> <b> OR </b> </td>\n",
        "        <td> <b> False </b> </td>\n",
        "        <td> <b> True </b> </td>\n",
        "      </tr>\n",
        "      <tr>\n",
        "        <td> <b> False </b> </td>\n",
        "        <td> False </td>\n",
        "        <td> True </td>\n",
        "      </tr>\n",
        "      <tr>\n",
        "        <td> <b> True </b> </td>\n",
        "        <td> True </td>\n",
        "        <td> True </td>\n",
        "      </tr>\n",
        "    </table>\n",
        "  </td>\n",
        "\n",
        "  </td>\n",
        "  <td>\n",
        "  </td>\n",
        "  <td>\n",
        "  </td>\n",
        "  <td>\n",
        "    <table>\n",
        "      <tr>\n",
        "        <td> <b> NOT </b> </td>\n",
        "        <td> <b> False </b> </td>\n",
        "        <td> <b> True </b> </td>\n",
        "      </tr>\n",
        "      <tr>\n",
        "        <td>  </td>\n",
        "        <td> True </td>\n",
        "        <td> False </td>\n",
        "      </tr>\n",
        "      <tr>\n",
        "        <td>  </td>\n",
        "        <td>  </td>\n",
        "        <td>  </td>\n",
        "      </tr>\n",
        "    </table>\n",
        "  </td>\n",
        "</table>"
      ]
    },
    {
      "cell_type": "markdown",
      "metadata": {
        "id": "P1U6HRRItXEW"
      },
      "source": [
        "**Note:** Logical operators don't work as expected on numpy arrays. We will see that later. Numpy has special functions to perform these operation. It overrides some other special operators (&, ^, ~) to perform logical operations on numpy arrays "
      ]
    },
    {
      "cell_type": "markdown",
      "metadata": {
        "id": "THpxc7L8RyBq"
      },
      "source": [
        "<br><br><br><br><br><br><br><br><br><br><br><br><br><br><br><br>"
      ]
    },
    {
      "cell_type": "markdown",
      "metadata": {
        "id": "Yxa_3ZnZvLH9"
      },
      "source": [
        "### Problem\n",
        "\n",
        "Store a value of 126 in variable x.\n",
        "Check if the number passes two criteria\n",
        "- The number is even AND\n",
        "- The number is divisible by 7\n",
        "\n",
        "Hint: Use combination Modulo operator, comparision operator and logical operators"
      ]
    },
    {
      "cell_type": "code",
      "metadata": {
        "id": "N20ACOnz-woP"
      },
      "source": [
        ""
      ],
      "execution_count": null,
      "outputs": []
    },
    {
      "cell_type": "markdown",
      "metadata": {
        "id": "446Fjn1Nvuop"
      },
      "source": [
        "#### Solution"
      ]
    },
    {
      "cell_type": "code",
      "metadata": {
        "colab": {
          "base_uri": "https://localhost:8080/"
        },
        "id": "Y4Q40OzQvz9Z",
        "outputId": "006cf543-1db7-4b39-882c-af7ebdf9a043"
      },
      "source": [
        "x = 126\n",
        "result = x % 2 == 0 and x % 7 == 0\n",
        "print('Passes criteria?: ', result)"
      ],
      "execution_count": null,
      "outputs": [
        {
          "output_type": "stream",
          "text": [
            "Passes criteria?:  True\n"
          ],
          "name": "stdout"
        }
      ]
    },
    {
      "cell_type": "markdown",
      "metadata": {
        "id": "z7KpwKWUR0n0"
      },
      "source": [
        "<br><br><br><br><br><br><br><br><br><br><br><br><br><br><br><br>"
      ]
    },
    {
      "cell_type": "markdown",
      "metadata": {
        "id": "0ibHMHKho_Pw"
      },
      "source": [
        "### Assignment Operators\n",
        "\n",
        "These operators are used to assign values to variables.\n",
        "\n",
        "For each of the below examples **assume the value of the x was 10** before assignment in each row.\n",
        "<table>\n",
        "    <thead>\n",
        "        <tr>\n",
        "            <td>Operator</td>\n",
        "            <td>Meaning</td>\n",
        "            <td>Expression(Eg.)</td>\n",
        "            <td>Value after assignment</td>\n",
        "        </tr>\n",
        "    </thead>\n",
        "    <tbody>\n",
        "        <tr>\n",
        "            <td> = </td>\n",
        "            <td>Assign</td>\n",
        "            <td>x = 3</td>\n",
        "            <td>3</td>\n",
        "        </tr>\n",
        "        <tr>\n",
        "            <td> += </td>\n",
        "            <td>Add and Assign</td>\n",
        "            <td>x += 2</td>\n",
        "            <td>12</td>\n",
        "        </tr>\n",
        "        <tr>\n",
        "            <td> -= </td>\n",
        "            <td>Subtract and Assign</td>\n",
        "            <td> x -= 2</td>\n",
        "            <td>8</td>\n",
        "        </tr>\n",
        "        <tr>\n",
        "            <td> *= </td>\n",
        "            <td>Multiply and Assign</td>\n",
        "            <td>x *= 2</td>\n",
        "            <td>20</td>\n",
        "        </tr>\n",
        "        <tr>\n",
        "            <td> /= </td>\n",
        "            <td>Divide and Assign</td>\n",
        "            <td>x /= 2</td>\n",
        "            <td>5.0</td>\n",
        "        </tr>\n",
        "        <tr>\n",
        "            <td> //= </td>\n",
        "            <td>Floor Divide and Assign</td>\n",
        "            <td>x //= 2</td>\n",
        "            <td>5</td>\n",
        "        </tr>\n",
        "        <tr>\n",
        "            <td> %= </td>\n",
        "            <td>Modulus and Assign</td>\n",
        "            <td>x %= 2</td>\n",
        "            <td>0</td>\n",
        "        </tr>\n",
        "        <tr>\n",
        "            <td> **= </td>\n",
        "            <td>Exponential and assign</td>\n",
        "            <td>x **= 2</td>\n",
        "            <td>100</td>\n",
        "        </tr>\n",
        "    </tbody>\n",
        "</table>"
      ]
    },
    {
      "cell_type": "code",
      "metadata": {
        "colab": {
          "base_uri": "https://localhost:8080/"
        },
        "id": "WYaYt6Qiscq5",
        "outputId": "7a3d8374-d90d-4b01-90f8-c18e96a9f83a"
      },
      "source": [
        "x = 10\n",
        "x = 3\n",
        "print(x)"
      ],
      "execution_count": null,
      "outputs": [
        {
          "output_type": "stream",
          "text": [
            "3\n"
          ],
          "name": "stdout"
        }
      ]
    },
    {
      "cell_type": "code",
      "metadata": {
        "colab": {
          "base_uri": "https://localhost:8080/"
        },
        "id": "ROlOP7kVshzp",
        "outputId": "3cc89880-8050-4f1f-af3c-6d3175d426e0"
      },
      "source": [
        "x = 10\n",
        "# x += 2\n",
        "x = x + 2\n",
        "print(x)"
      ],
      "execution_count": null,
      "outputs": [
        {
          "output_type": "stream",
          "text": [
            "12\n"
          ],
          "name": "stdout"
        }
      ]
    },
    {
      "cell_type": "code",
      "metadata": {
        "colab": {
          "base_uri": "https://localhost:8080/"
        },
        "id": "YqbHIDOfqs4N",
        "outputId": "0ffee0ae-bc30-4b8a-86ca-fb4f43440bb3"
      },
      "source": [
        "x = 10\n",
        "x **= 2\n",
        "print(x)"
      ],
      "execution_count": null,
      "outputs": [
        {
          "output_type": "stream",
          "text": [
            "100\n"
          ],
          "name": "stdout"
        }
      ]
    },
    {
      "cell_type": "code",
      "metadata": {
        "colab": {
          "base_uri": "https://localhost:8080/"
        },
        "id": "TEnov9Zlq13I",
        "outputId": "f125ec85-3e5c-425c-da76-ac4f1c0c1901"
      },
      "source": [
        "x = 10\n",
        "x %= 2\n",
        "print(x)"
      ],
      "execution_count": null,
      "outputs": [
        {
          "output_type": "stream",
          "text": [
            "0\n"
          ],
          "name": "stdout"
        }
      ]
    },
    {
      "cell_type": "markdown",
      "metadata": {
        "id": "7i60-5dGR3TO"
      },
      "source": [
        "<br><br><br><br><br><br><br><br>"
      ]
    },
    {
      "cell_type": "markdown",
      "metadata": {
        "id": "B8yY85vwxJlP"
      },
      "source": [
        "### Precedence of operators\n",
        "\n",
        "Below is the order or precedence (highest to lowest). When operator have similar precidence, they are evaluated from left to right.\n",
        " - Parenthesis\n",
        " - Exponential\n",
        " - Unary (+, -)\n",
        " - Multiplication, Division, Modulo\n",
        " - Addition, Subtraction\n",
        " - Comparision \n",
        " - Logical NOT\n",
        " - Logical AND \n",
        " - Logical OR\n",
        " - Assignment"
      ]
    },
    {
      "cell_type": "code",
      "metadata": {
        "colab": {
          "base_uri": "https://localhost:8080/"
        },
        "id": "eLRu5y_B1_nC",
        "outputId": "4b09baab-049e-4896-a713-de61ba57e85a"
      },
      "source": [
        "x = - 100 * - 2 - 2 * 20 + 10 ** 2 / 4 / 10 % 2 \n",
        "# 200 - 40 + 0.5\n",
        "print(x)"
      ],
      "execution_count": null,
      "outputs": [
        {
          "output_type": "execute_result",
          "data": {
            "text/plain": [
              "160.5"
            ]
          },
          "metadata": {
            "tags": []
          },
          "execution_count": 118
        }
      ]
    },
    {
      "cell_type": "code",
      "metadata": {
        "colab": {
          "base_uri": "https://localhost:8080/"
        },
        "id": "pvF7qLTg4oGK",
        "outputId": "2150be48-794a-456a-d323-95893ec292b8"
      },
      "source": [
        "x = - 100 * - 2 - 2 * (20 + 10 ** 2 / 4) / 10 % 2\n",
        "print(x)"
      ],
      "execution_count": null,
      "outputs": [
        {
          "output_type": "stream",
          "text": [
            "199.0\n"
          ],
          "name": "stdout"
        }
      ]
    },
    {
      "cell_type": "markdown",
      "metadata": {
        "id": "g4nnkO0-R7EQ"
      },
      "source": [
        "<br><br><br><br><br><br><br><br>"
      ]
    },
    {
      "cell_type": "markdown",
      "metadata": {
        "id": "gJJoqR6i11IA"
      },
      "source": [
        "# Conditional Execution\n",
        "\n",
        "We saw earlier that python interpreter runs code from start to end in sequence. However, sometimes you may want to run some part of the program only if some condition is satisfied. \n",
        "\n",
        "For example, when user enters a number, we would like to find whether the number is even or not and display outputs accordingly."
      ]
    },
    {
      "cell_type": "markdown",
      "metadata": {
        "id": "YZSsxU6IR_NX"
      },
      "source": [
        "<br><br><br><br><br><br><br><br><br><br><br><br><br><br><br><br><br><br><br><br>"
      ]
    },
    {
      "cell_type": "markdown",
      "metadata": {
        "id": "RS_zHSxx20yG"
      },
      "source": [
        "## if statement\n",
        "\n",
        "```\n",
        "if condition:\n",
        "    body (statements to execute if the condition is True)\n",
        "```\n",
        "<br><br>"
      ]
    },
    {
      "cell_type": "code",
      "metadata": {
        "colab": {
          "base_uri": "https://localhost:8080/"
        },
        "id": "1mFBI7OkzdnA",
        "outputId": "8dcd6606-d4d5-4295-f18f-5ded3cb529ce"
      },
      "source": [
        "user_input = input('Enter a number: ')\n",
        "print('\\nEntered number is ', user_input)\n",
        "print('Default data type of return value of input function:', type(user_input))"
      ],
      "execution_count": null,
      "outputs": [
        {
          "output_type": "stream",
          "text": [
            "Enter a number: 11\n",
            "\n",
            "Entered number is  11\n",
            "Default data type of return value of input function: <class 'str'>\n"
          ],
          "name": "stdout"
        }
      ]
    },
    {
      "cell_type": "code",
      "metadata": {
        "colab": {
          "base_uri": "https://localhost:8080/"
        },
        "id": "bkzdtUAV1EFO",
        "outputId": "d0d06f3d-c8b1-4537-999a-09ce1009266b"
      },
      "source": [
        "# convert to integer\n",
        "user_input = int(user_input)\n",
        "print('\\nAfter conversion:', type(user_input))"
      ],
      "execution_count": null,
      "outputs": [
        {
          "output_type": "stream",
          "text": [
            "\n",
            "After conversion: <class 'int'>\n"
          ],
          "name": "stdout"
        }
      ]
    },
    {
      "cell_type": "code",
      "metadata": {
        "colab": {
          "base_uri": "https://localhost:8080/",
          "height": 129
        },
        "id": "hS0-C6WmvfdI",
        "outputId": "d5e6223b-1c2b-4e44-a578-f964c3f0c29a"
      },
      "source": [
        "if (condition) \n",
        "{\n",
        "cout<<'Hello';   \n",
        "}"
      ],
      "execution_count": null,
      "outputs": [
        {
          "output_type": "error",
          "ename": "SyntaxError",
          "evalue": "ignored",
          "traceback": [
            "\u001b[0;36m  File \u001b[0;32m\"<ipython-input-67-50754fcca7ca>\"\u001b[0;36m, line \u001b[0;32m1\u001b[0m\n\u001b[0;31m    if (condition)\u001b[0m\n\u001b[0m                   ^\u001b[0m\n\u001b[0;31mSyntaxError\u001b[0m\u001b[0;31m:\u001b[0m invalid syntax\n"
          ]
        }
      ]
    },
    {
      "cell_type": "code",
      "metadata": {
        "colab": {
          "base_uri": "https://localhost:8080/"
        },
        "id": "9sT0vCQ258Ev",
        "outputId": "fa4cfe61-ebde-45e6-877d-0e88ca04faa8"
      },
      "source": [
        "print('Start')\n",
        "if user_input % 2 == 0:\n",
        "  print('The reminder when divided by 2 is 0')\n",
        "  print('The entered number is even.')\n",
        "\n",
        "print('Done')\n"
      ],
      "execution_count": null,
      "outputs": [
        {
          "output_type": "stream",
          "text": [
            "Start\n",
            "Done\n"
          ],
          "name": "stdout"
        }
      ]
    },
    {
      "cell_type": "markdown",
      "metadata": {
        "id": "e-_p5ih95ydU"
      },
      "source": [
        "In the above cell, you see 2 lines of code. Notice that the indentation of these two lines is different.\n",
        "\n",
        "The indented code is the body of the `if` conditional. This code is executed only if the condition is True.\n",
        "\n"
      ]
    },
    {
      "cell_type": "markdown",
      "metadata": {
        "id": "JRwjPu-DSPCd"
      },
      "source": [
        "<br><br><br><br><br><br><br><br>"
      ]
    },
    {
      "cell_type": "markdown",
      "metadata": {
        "id": "WjfUdt3uD08h"
      },
      "source": [
        "## if else statement\n",
        "\n",
        "In the above case, if the condition of the `if` statement was not true, nothing was printed. Sometimes we may want to do some other thing if the condition specified in the `if` statement is False. In such scenario we use the `if ... else` statements.\n",
        "\n",
        "```\n",
        "if condition:\n",
        "    statements to execute if the condition is True\n",
        "else:\n",
        "    statements to execute if the condition is False\n",
        "```"
      ]
    },
    {
      "cell_type": "code",
      "metadata": {
        "colab": {
          "base_uri": "https://localhost:8080/"
        },
        "id": "JiX6-_Y1Es5v",
        "outputId": "08c51f7c-e778-4f2a-e304-96220b7cf395"
      },
      "source": [
        "user_input = input('Enter a number: ')\n",
        "print('\\nEntered number is ', user_input)\n",
        "print('Default data type of return value of input function:', type(user_input))\n",
        "# convert to integer\n",
        "user_input = int(user_input)\n",
        "print('\\nAfter conversion:', type(user_input))\n",
        "\n",
        "print('Start')\n",
        "\n",
        "if user_input % 2 == 0:\n",
        "  print('The reminder when divided by 2 is 0')\n",
        "  print('The entered number is even.')\n",
        "else:\n",
        "  print('The reminder when divided by 2 is 1')\n",
        "  print('The entered number is odd.')\n",
        "\n",
        "print('Done')"
      ],
      "execution_count": null,
      "outputs": [
        {
          "output_type": "stream",
          "text": [
            "Enter a number: 11\n",
            "\n",
            "Entered number is  11\n",
            "Default data type of return value of input function: <class 'str'>\n",
            "\n",
            "After conversion: <class 'int'>\n",
            "Start\n",
            "The reminder when divided by 2 is 1\n",
            "The entered number is odd.\n",
            "Done\n"
          ],
          "name": "stdout"
        }
      ]
    },
    {
      "cell_type": "markdown",
      "metadata": {
        "id": "oNPb1twhSSan"
      },
      "source": [
        "<br><br><br><br><br><br><br><br>"
      ]
    },
    {
      "cell_type": "markdown",
      "metadata": {
        "id": "XYkjbehwGXaS"
      },
      "source": [
        "## if elif else statement\n",
        "\n",
        "Sometimes you may have multiple conditions, and based on which condition is valid, you may want to execute only the body of the conditional which is valid. In suce cases you can use `if...elif...else` statements.\n",
        "\n",
        "`elif` is an abbreviation for `else if`.\n",
        "\n",
        "You can have as many conditions as you like, but **only the body of the FIRST encountered valid conditional is executed**\n",
        "\n",
        "The structure of `if...elif...else` is as follows:\n",
        "\n",
        "```\n",
        "if condition_1:\n",
        "      statements to execute if the condition_1 is True\n",
        "elif condition_2:\n",
        "    statements to execute if the condition_2 is True\n",
        "...\n",
        "elif condition_n:\n",
        "    statements to execute if the condition_n is True\n",
        "else:\n",
        "    statements to execute if all the above conditions are False\n",
        "```\n",
        "<br><br><br><br><br><br><br><br>"
      ]
    },
    {
      "cell_type": "markdown",
      "metadata": {
        "id": "UEHDUnpI19F2"
      },
      "source": [
        "Consider the following example"
      ]
    },
    {
      "cell_type": "code",
      "metadata": {
        "colab": {
          "base_uri": "https://localhost:8080/"
        },
        "id": "d9wYhfHfGWsh",
        "outputId": "24b4ef9e-51c1-4afa-a202-b1bf4cef3d71"
      },
      "source": [
        "# Ask user choice and store it in a variable\n",
        "# Depending on the choice of the exam module ask questions to the user\n",
        "\n",
        "exam_choice = input('''Which exam would you like to take?\n",
        "a. Java\n",
        "b. Python\n",
        "c. C++\n",
        "\n",
        "Enter your choice (a/b/c): \n",
        "''')\n",
        "\n",
        "# Display the statements based on user selection\n",
        "if exam_choice == 'a':\n",
        "  print('You have choosen Java.')\n",
        "  print('You will have 20 questions to answer.')\n",
        "elif exam_choice == 'b':\n",
        "  print('You have choosen Python.')\n",
        "  print('You will have 10 questions to answer.')\n",
        "elif exam_choice == 'c':\n",
        "  print('You have choosen C++.')\n",
        "  print('You will have 15 questions to answer.')\n",
        "else:\n",
        "  # Executes if you have choosen anything else other than a/b/c\n",
        "  print('Invalid Choice')"
      ],
      "execution_count": null,
      "outputs": [
        {
          "output_type": "stream",
          "text": [
            "Which exam would you like to take?\n",
            "a. Java\n",
            "b. Python\n",
            "c. C++\n",
            "\n",
            "Enter your choice (a/b/c): \n",
            "h\n",
            "Invalid Choice\n"
          ],
          "name": "stdout"
        }
      ]
    },
    {
      "cell_type": "markdown",
      "metadata": {
        "id": "nJATNXvMSZlz"
      },
      "source": [
        "<br><br><br><br><br><br><br><br><br><br><br><br>"
      ]
    },
    {
      "cell_type": "markdown",
      "metadata": {
        "id": "wWnSf2p6N4UT"
      },
      "source": [
        "## Nested Conditionals\n",
        "\n",
        "Consider the following problem:\n",
        "\n",
        "We want the user to input 2 numbers.\n",
        "- Check if the two numbers are equal or not and print a message accordingly. ie \"Equal\" or \"Not equal\"\n",
        "- If the numbers are not equal, print the greater of the two numbers.\n"
      ]
    },
    {
      "cell_type": "code",
      "metadata": {
        "colab": {
          "base_uri": "https://localhost:8080/"
        },
        "id": "3mQkdnBjPO_z",
        "outputId": "dbdcd460-8cd6-44d0-be97-c5913fc518af"
      },
      "source": [
        "x = int(input('Enter the first number, x :'))\n",
        "y = int(input('Enter the second number, y :'))\n",
        "\n",
        "\n",
        "if x == y:\n",
        "  print('x and y are equal')\n",
        "elif y > x:\n",
        "  print('x and y are not equal')\n",
        "  print('y is greater than x')\n",
        "else:\n",
        "  print('x and y are not equal')\n",
        "  print('x is greater than y')"
      ],
      "execution_count": null,
      "outputs": [
        {
          "output_type": "stream",
          "text": [
            "Enter the first number, x :10\n",
            "Enter the second number, y :20\n",
            "x and y are not equal\n",
            "y is greater than x\n"
          ],
          "name": "stdout"
        }
      ]
    },
    {
      "cell_type": "markdown",
      "metadata": {
        "id": "OdCuQxv5XH0I"
      },
      "source": [
        "In the above cell we are repeating the print statement twice. We would like to avoid this. \n",
        "\n",
        "In order to do so, we can use **nested conditionals** as follows. "
      ]
    },
    {
      "cell_type": "code",
      "metadata": {
        "colab": {
          "base_uri": "https://localhost:8080/"
        },
        "id": "j0byYS6pXog3",
        "outputId": "2a366b81-7918-409c-e03c-05f268b3c128"
      },
      "source": [
        "if x == y:\n",
        "  print('x and y are equal')\n",
        "else:\n",
        "  print('x and y are not equal')\n",
        "\n",
        "  if y > x:\n",
        "    print('y is greater than x')\n",
        "  else:\n",
        "    print('x is greater than y')"
      ],
      "execution_count": null,
      "outputs": [
        {
          "output_type": "stream",
          "text": [
            "x and y are not equal\n",
            "y is greater than x\n"
          ],
          "name": "stdout"
        }
      ]
    },
    {
      "cell_type": "markdown",
      "metadata": {
        "id": "1Sfxq3C-3JxO"
      },
      "source": [
        "We can have **as many levels of nesting as we like** and we can use any of the constructs described above.\n",
        "\n",
        "Just make sure that the **indentation** is done correctly.\n",
        "\n",
        "<br><br><br><br><br><br><br><br><br><br><br><br>"
      ]
    },
    {
      "cell_type": "markdown",
      "metadata": {
        "id": "07bZZR3e0jmV"
      },
      "source": [
        "##Examples"
      ]
    },
    {
      "cell_type": "markdown",
      "metadata": {
        "id": "MJcvs3Li0ppx"
      },
      "source": [
        "### Problem\n",
        "\n",
        "Compute the weekly pay of an employee with following criteria:\n",
        "- If the employee has worked for up to 40 hours, the pay rate is 10 eur/hr\n",
        "- For every extra hour, they get 1.5 times the regular pay rate\n",
        "\n",
        "Hint:\n",
        "- Get working hours from the user as input and store it in a variable as an integer\n",
        "- Use `if...else` conditional and perform salary computations accordingly and store the result in a variable\n",
        "- Display the result to the user"
      ]
    },
    {
      "cell_type": "markdown",
      "metadata": {
        "id": "QJRdxc7Wn3vt"
      },
      "source": [
        "#### Solution"
      ]
    },
    {
      "cell_type": "code",
      "metadata": {
        "colab": {
          "base_uri": "https://localhost:8080/"
        },
        "id": "Etl2kV731i9L",
        "outputId": "ebce5bd1-b498-4ca6-c951-ce1f54a6778c"
      },
      "source": [
        "working_hours = int(input('Enter the number of hours worked: '))\n",
        "# working_hours = input('Enter the number of hours worked: ')\n",
        "# working_hours = int(working_hours)\n",
        "regular_pay = 10\n",
        "\n",
        "if working_hours <= 40:\n",
        "  # pay only the regular pay\n",
        "  salary = working_hours * regular_pay\n",
        "else:\n",
        "  # for the first 40 hours they get regular pay, for every extra hour they get 1.5 * regular pay\n",
        "  salary = 40 * regular_pay + (working_hours - 40) * (1.5 * regular_pay)\n",
        "  \n",
        "\n",
        "print('Salary:', salary, 'EUR')"
      ],
      "execution_count": null,
      "outputs": [
        {
          "output_type": "stream",
          "text": [
            "Enter the number of hours worked: 41\n",
            "Salary: 415.0 EUR\n"
          ],
          "name": "stdout"
        }
      ]
    },
    {
      "cell_type": "markdown",
      "metadata": {
        "id": "tHwk1F_KSkEj"
      },
      "source": [
        "<br><br><br><br><br><br><br><br>"
      ]
    },
    {
      "cell_type": "markdown",
      "metadata": {
        "id": "C98HEjkL2-uO"
      },
      "source": [
        "### Problem\n",
        "\n",
        "Ask the user to enter their score. \n",
        "- If the score is less than 0 or greater than 100 then print invalid score\n",
        "- If score is greater than or equal to 80, the grade is A\n",
        "- If the score is between 60-80 the grade is B\n",
        "- If the score is between 40-60 the grade is C\n",
        "- If the grade is less than 40 then the student failed the test\n",
        "\n",
        "Hint:\n",
        "- Get score from the user as input and store it in a variable as an integer\n",
        "- Use `if...elif...else` conditional to compare the score and print accordingly\n"
      ]
    },
    {
      "cell_type": "markdown",
      "metadata": {
        "id": "3KjV-DO1nyYg"
      },
      "source": [
        "#### Solution"
      ]
    },
    {
      "cell_type": "code",
      "metadata": {
        "colab": {
          "base_uri": "https://localhost:8080/"
        },
        "id": "HB1AyZiP2soG",
        "outputId": "03212782-d6ea-4e63-f374-48002b381a8e"
      },
      "source": [
        "score = int(input('Enter the score: '))\n",
        "\n",
        "if score > 100 or score < 0:\n",
        "  print('Invalid Score!')\n",
        "elif score >= 80:\n",
        "  print('Grade: A')\n",
        "elif score >= 60:\n",
        "  print('Grade: B')\n",
        "elif score >= 40:\n",
        "  print('Grade: C')\n",
        "else:\n",
        "  print('Failed')"
      ],
      "execution_count": null,
      "outputs": [
        {
          "output_type": "stream",
          "text": [
            "Enter the score: 100\n",
            "Grade: A\n"
          ],
          "name": "stdout"
        }
      ]
    },
    {
      "cell_type": "markdown",
      "metadata": {
        "id": "Ay7QCyHJSqJQ"
      },
      "source": [
        "<br><br><br><br><br><br><br><br>"
      ]
    },
    {
      "cell_type": "markdown",
      "metadata": {
        "id": "zUOAyy_U51Wl"
      },
      "source": [
        "### Problem\n",
        "\n",
        "Correct the following program:"
      ]
    },
    {
      "cell_type": "code",
      "metadata": {
        "colab": {
          "base_uri": "https://localhost:8080/"
        },
        "id": "jjgjoz3R5New",
        "outputId": "a2b686b0-e0e9-499f-ebc1-d21eb9824473"
      },
      "source": [
        "score = int(input('Enter the score: '))\n",
        "\n",
        "# Modify the first 3 conditions by adding additional constraint\n",
        "if score >= 40: \n",
        "  print('Grade: C')\n",
        "elif score >= 60:\n",
        "  print('Grade: B')\n",
        "elif score >= 80:\n",
        "  print('Grade: A')\n",
        "elif score > 100 or score < 0:\n",
        "  print('Invalid Score!')\n",
        "else:\n",
        "  print('Failed')"
      ],
      "execution_count": null,
      "outputs": [
        {
          "output_type": "stream",
          "text": [
            "Enter the score: 100\n",
            "Grade: C\n"
          ],
          "name": "stdout"
        }
      ]
    },
    {
      "cell_type": "markdown",
      "metadata": {
        "id": "2Njej7-v6QXC"
      },
      "source": [
        "#### Solution"
      ]
    },
    {
      "cell_type": "code",
      "metadata": {
        "colab": {
          "base_uri": "https://localhost:8080/"
        },
        "id": "oX6XNjYi5yWZ",
        "outputId": "d16c2f40-7412-4aec-d231-da359050ae73"
      },
      "source": [
        "score = int(input('Enter the score: '))\n",
        "\n",
        "\n",
        "if score >= 40 and score < 60:\n",
        "  print('Grade: C')\n",
        "elif score >= 60 and score < 80:\n",
        "  print('Grade: B')\n",
        "elif score >= 80 and score <= 100:\n",
        "  print('Grade: A')\n",
        "elif score > 100 or score < 0:\n",
        "  print('Invalid Score!')\n",
        "else:\n",
        "  print('Failed')"
      ],
      "execution_count": null,
      "outputs": [
        {
          "output_type": "stream",
          "text": [
            "Enter the score: 100\n",
            "Grade: A\n"
          ],
          "name": "stdout"
        }
      ]
    },
    {
      "cell_type": "code",
      "metadata": {
        "id": "qSdJsYL__wP1"
      },
      "source": [
        "count = []\n",
        "for i in range(10):\n",
        "  count.append(i)"
      ],
      "execution_count": null,
      "outputs": []
    },
    {
      "cell_type": "markdown",
      "metadata": {
        "id": "mlNtZbjESsRp"
      },
      "source": [
        "<br><br><br><br><br><br><br><br>"
      ]
    },
    {
      "cell_type": "markdown",
      "metadata": {
        "id": "ILxgJFnQ7CnG"
      },
      "source": [
        "# Iteration\n",
        "\n",
        "Consider the following problem:\n",
        "```\n",
        "Print the first 10 natural numbers. \n",
        "```\n",
        "To do this you need to write **repetetive code**. This is an **iterative statement**. You start with an initial value of 1 (the first natural number) and display it. Then you increment it again by 1 and display the resulting value. You repeat this till 10 times to display first "
      ]
    },
    {
      "cell_type": "code",
      "metadata": {
        "colab": {
          "base_uri": "https://localhost:8080/"
        },
        "id": "AZW4EYuUHUPY",
        "outputId": "ecf8f04f-54e1-4751-9466-b678c7b3397c"
      },
      "source": [
        "x = 1\n",
        "print(x)\n",
        "x += 1\n",
        "print(x)\n",
        "x += 1\n",
        "print(x)\n",
        "# repeat this 10 times"
      ],
      "execution_count": null,
      "outputs": [
        {
          "output_type": "stream",
          "text": [
            "1\n",
            "2\n",
            "3\n"
          ],
          "name": "stdout"
        }
      ]
    },
    {
      "cell_type": "markdown",
      "metadata": {
        "id": "R1fzBdqCHhUJ"
      },
      "source": [
        "What if you want to display first 1 million natural numbers. Would you copy the statement so many times?\n",
        "\n",
        "An efficient way to do this is to use **loops**. There are two types of loops in python: `while` and `for`.\n",
        "\n",
        "The general pattern of both the loops is similar. \n",
        "- You initialize/create a loop variable \n",
        "- The looping condition is checked. \n",
        "- If the condition holds, the body of the loop is executed\n",
        "- The loop variable is updated.\n",
        "- The procedure is repeated till the looping condition is valid.\n",
        "\n",
        "Let's look at each of these in detail."
      ]
    },
    {
      "cell_type": "markdown",
      "metadata": {
        "id": "W-OzvkWiS3kJ"
      },
      "source": [
        "<br><br><br><br><br><br><br><br><br><br><br><br>"
      ]
    },
    {
      "cell_type": "markdown",
      "metadata": {
        "id": "BwF9Tl7GIXiN"
      },
      "source": [
        "## while loop\n",
        "The general structure of `while` loop is as follows:\n",
        "```\n",
        "while condition:\n",
        "  body\n",
        "```\n",
        "\n",
        "`while` loop executes the statement in the body as long as the condition is `True`.\n"
      ]
    },
    {
      "cell_type": "code",
      "metadata": {
        "colab": {
          "base_uri": "https://localhost:8080/"
        },
        "id": "Z10ypFjI2gle",
        "outputId": "5695b354-e9e2-4553-ea1a-08b45eff642b"
      },
      "source": [
        "i = 1          # Loop variable\n",
        "if i <= 10:    # if condition\n",
        "  print(i) \n",
        "  i+=1     "
      ],
      "execution_count": null,
      "outputs": [
        {
          "output_type": "stream",
          "text": [
            "1\n"
          ],
          "name": "stdout"
        }
      ]
    },
    {
      "cell_type": "code",
      "metadata": {
        "colab": {
          "base_uri": "https://localhost:8080/"
        },
        "id": "YS6FMdzCKeci",
        "outputId": "84768eb3-9f6c-413f-cb45-73700b489043"
      },
      "source": [
        "i = 1          # Loop variable\n",
        "print('start')\n",
        "while i <= 10: # Loop condition\n",
        "  print(i) \n",
        "  i+=1         # Update loop variable\n",
        "print('done')\n",
        "print('value of i after while loop:', i)"
      ],
      "execution_count": null,
      "outputs": [
        {
          "output_type": "stream",
          "text": [
            "start\n",
            "1\n",
            "2\n",
            "3\n",
            "4\n",
            "5\n",
            "6\n",
            "7\n",
            "8\n",
            "9\n",
            "10\n",
            "done\n",
            "value of i after while loop: 11\n"
          ],
          "name": "stdout"
        }
      ]
    },
    {
      "cell_type": "markdown",
      "metadata": {
        "id": "OCAc1O7hc36y"
      },
      "source": [
        "The above loop iterated for 10 times i.e. the body of the loop was executed 10 times. During the 10th iteration, i value changed to 11 and thus it did not run for the 11th time as the condition evaluated to `False`."
      ]
    },
    {
      "cell_type": "markdown",
      "metadata": {
        "id": "dCcPB1daS7oE"
      },
      "source": [
        "<br><br><br><br><br><br><br><br>"
      ]
    },
    {
      "cell_type": "markdown",
      "metadata": {
        "id": "MRY7ToJcdTMW"
      },
      "source": [
        "## for loop\n",
        "\n",
        "`for` loop is used to iterate over an `iterable`. `iterable` are things over which you can iterate. Some examples of `iterable` are: string, list, set, tuple or dictionary\n",
        "```\n",
        "for variable_name in iterable:\n",
        "  body\n",
        "```\n",
        "\n",
        "`for` loop executes the statement in the body for each element in the `iterable`"
      ]
    },
    {
      "cell_type": "markdown",
      "metadata": {
        "id": "WY4SWrJfS-1F"
      },
      "source": [
        "<br><br><br><br><br><br><br><br><br><br><br><br><br><br><br><br>"
      ]
    },
    {
      "cell_type": "markdown",
      "metadata": {
        "id": "mn3ZEh6Jp2vM"
      },
      "source": [
        "#### Lists (Basics)\n",
        "\n",
        "Let's quickly look at list.\n",
        "\n",
        "`list` is a built in data structure of python which can be used to store a list of items in a single variable. \n",
        "\n",
        "Consider the following list of employees.\n",
        "\n"
      ]
    },
    {
      "cell_type": "code",
      "metadata": {
        "id": "iPggSibQdSa8"
      },
      "source": [
        "name = 'sumit' # Assigned string\n",
        "\n",
        "employee_list = ['Luca', 'Chan', 'Sumit', 'Nick'] # Assigned list of string"
      ],
      "execution_count": null,
      "outputs": []
    },
    {
      "cell_type": "markdown",
      "metadata": {
        "id": "1a3tRvLbtjPP"
      },
      "source": [
        "You can access each element using its **index**. The index of elements start from 0. So in the above example, the starting index is 0 and ending index is 3.\n",
        "\n",
        "Lengths of lists can be determined using the `len()` function. "
      ]
    },
    {
      "cell_type": "code",
      "metadata": {
        "colab": {
          "base_uri": "https://localhost:8080/"
        },
        "id": "9HBDZyB0uBYj",
        "outputId": "b6027d75-074a-4e24-a5ee-85690e1665c8"
      },
      "source": [
        "print('Element at index 0:', employee_list[0])\n",
        "print('Element at index 2:', employee_list[2])\n",
        "print('Length of the list:', len(employee_list))"
      ],
      "execution_count": null,
      "outputs": [
        {
          "output_type": "stream",
          "text": [
            "Element at index 0: Luca\n",
            "Element at index 2: Sumit\n",
            "Length of the list: 4\n"
          ],
          "name": "stdout"
        }
      ]
    },
    {
      "cell_type": "markdown",
      "metadata": {
        "id": "Zd3z2Tg2qnXA"
      },
      "source": [
        "Write a program to say Hi to all the employees"
      ]
    },
    {
      "cell_type": "code",
      "metadata": {
        "colab": {
          "base_uri": "https://localhost:8080/"
        },
        "id": "WDNyuxq1qtj9",
        "outputId": "12198ca1-2f03-4b98-c3e0-fb192f67fbc7"
      },
      "source": [
        "for employee in employee_list:\n",
        "  print('Hi ', employee)"
      ],
      "execution_count": null,
      "outputs": [
        {
          "output_type": "stream",
          "text": [
            "Hi  Luca\n",
            "Hi  Chan\n",
            "Hi  Sumit\n",
            "Hi  Nick\n"
          ],
          "name": "stdout"
        }
      ]
    },
    {
      "cell_type": "markdown",
      "metadata": {
        "id": "v28pguUh6NxK"
      },
      "source": [
        "In every iteration, `for` loop assigns the next item in the list to the **loop variable** (in this case, the variable employee). "
      ]
    },
    {
      "cell_type": "markdown",
      "metadata": {
        "id": "H0dhGAV8TOXm"
      },
      "source": [
        "<br><br><br><br><br><br><br><br><br><br><br><br>"
      ]
    },
    {
      "cell_type": "markdown",
      "metadata": {
        "id": "IQqtZNRWrJAE"
      },
      "source": [
        "### range function"
      ]
    },
    {
      "cell_type": "markdown",
      "metadata": {
        "id": "SrBA91luq_8P"
      },
      "source": [
        "Let's also look at a handy function that is commonly with `for` loops, i.e. the `range` function.\n",
        "\n",
        "The `range` function returns an iterable which yields a sequence of numbers which start from 0 (default) up to but not including the stop value in the increments of 1 (default). \n",
        "\n",
        "We will look at this in detail when we talk about iterables. For now, just follow the above definition."
      ]
    },
    {
      "cell_type": "code",
      "metadata": {
        "colab": {
          "base_uri": "https://localhost:8080/"
        },
        "id": "lePQk6HMq_Gz",
        "outputId": "f1966958-d826-42f0-c23e-d2e0454c0d9c"
      },
      "source": [
        "for i in range(5):\n",
        "  print(i)"
      ],
      "execution_count": null,
      "outputs": [
        {
          "output_type": "stream",
          "text": [
            "0\n",
            "1\n",
            "2\n",
            "3\n",
            "4\n"
          ],
          "name": "stdout"
        }
      ]
    },
    {
      "cell_type": "code",
      "metadata": {
        "colab": {
          "base_uri": "https://localhost:8080/"
        },
        "id": "t6YmAy0cd6Qt",
        "outputId": "14e5fe60-11f5-446b-e697-c00fa69d16b1"
      },
      "source": [
        "for i in range(100, 110, 2):\n",
        "  print(i)"
      ],
      "execution_count": null,
      "outputs": [
        {
          "output_type": "stream",
          "text": [
            "100\n",
            "102\n",
            "104\n",
            "106\n",
            "108\n"
          ],
          "name": "stdout"
        }
      ]
    },
    {
      "cell_type": "markdown",
      "metadata": {
        "id": "Bf6B2Iu0TSxn"
      },
      "source": [
        "<br><br><br><br><br><br><br><br><br><br><br><br>"
      ]
    },
    {
      "cell_type": "markdown",
      "metadata": {
        "id": "4-h1dyMLumCb"
      },
      "source": [
        "Consider the following snippet. \n",
        "- There are two lists, one containing the employee names and other containing their corresponding age.\n"
      ]
    },
    {
      "cell_type": "code",
      "metadata": {
        "id": "xY-dKn0y7gcd"
      },
      "source": [
        "employee_names = ['Sumit', 'Joe', 'Ned', 'Ian']\n",
        "employee_age = [33, 30, 40, 27]\n"
      ],
      "execution_count": null,
      "outputs": []
    },
    {
      "cell_type": "markdown",
      "metadata": {
        "id": "h1Nm120w7gze"
      },
      "source": [
        "Write a program to \n",
        "- display the number of employees.\n",
        "- display the names of the employees along with their age. \n",
        "\n",
        "We can use a for loop to iterate over the range of 0 to length of the list and use the values to index the list and access the name and age of the employee from the 2 lists."
      ]
    },
    {
      "cell_type": "code",
      "metadata": {
        "colab": {
          "base_uri": "https://localhost:8080/"
        },
        "id": "BW-z5zxZ7ruM",
        "outputId": "0aeebba0-8c50-4aba-b0d2-46b0ed2c9301"
      },
      "source": [
        "# Display the number of employees\n",
        "print('Number of employees:', len(employee_names))"
      ],
      "execution_count": null,
      "outputs": [
        {
          "output_type": "stream",
          "text": [
            "Number of employees: 4\n"
          ],
          "name": "stdout"
        }
      ]
    },
    {
      "cell_type": "code",
      "metadata": {
        "colab": {
          "base_uri": "https://localhost:8080/"
        },
        "id": "4x16Ad7Q51DE",
        "outputId": "108a606a-fa1c-4934-ad2a-4083d6689062"
      },
      "source": [
        "for i in range(len(employee_names)):\n",
        "  print(i)"
      ],
      "execution_count": null,
      "outputs": [
        {
          "output_type": "stream",
          "text": [
            "0\n",
            "1\n",
            "2\n",
            "3\n"
          ],
          "name": "stdout"
        }
      ]
    },
    {
      "cell_type": "code",
      "metadata": {
        "colab": {
          "base_uri": "https://localhost:8080/"
        },
        "id": "71cAcjxbu4Te",
        "outputId": "06716512-cd16-4592-970e-1b8e66e11ac9"
      },
      "source": [
        "for i in range(len(employee_names)):\n",
        "  print('Employee Name: ', employee_names[i])\n",
        "  print('Age: ', employee_age[i])"
      ],
      "execution_count": null,
      "outputs": [
        {
          "output_type": "stream",
          "text": [
            "Number of employees: 4\n",
            "Employee Name:  Sumit\n",
            "Age:  33\n",
            "Employee Name:  Joe\n",
            "Age:  30\n",
            "Employee Name:  Ned\n",
            "Age:  40\n",
            "Employee Name:  Ian\n",
            "Age:  27\n"
          ],
          "name": "stdout"
        }
      ]
    },
    {
      "cell_type": "markdown",
      "metadata": {
        "id": "OnhQiFuxTaA5"
      },
      "source": [
        "<br><br><br><br><br><br><br><br><br><br><br><br>"
      ]
    },
    {
      "cell_type": "markdown",
      "metadata": {
        "id": "hE6geOo7d-WG"
      },
      "source": [
        "## continue statement\n",
        "\n",
        "This statement is used to skip the rest of the body of the loop for the current iteration and return to the beginning of the loop. \n",
        "\n",
        "Let's say we want to print out all numbers between 1 and 10 which are not divisible by 4. One way to do this is as follows:"
      ]
    },
    {
      "cell_type": "code",
      "metadata": {
        "colab": {
          "base_uri": "https://localhost:8080/"
        },
        "id": "BFrVxFrPyQCI",
        "outputId": "06fb923c-23c6-4890-c294-a68a150ed05a"
      },
      "source": [
        "for i in range(1, 11):\n",
        "  if i % 4 == 0:\n",
        "    continue\n",
        "\n",
        "  print(i)\n",
        "\n",
        "print('Done')"
      ],
      "execution_count": null,
      "outputs": [
        {
          "output_type": "stream",
          "text": [
            "1\n",
            "2\n",
            "3\n",
            "5\n",
            "6\n",
            "7\n",
            "9\n",
            "10\n",
            "Done\n"
          ],
          "name": "stdout"
        }
      ]
    },
    {
      "cell_type": "markdown",
      "metadata": {
        "id": "ZaXGwUVyTcRX"
      },
      "source": [
        "<br><br><br><br><br><br><br><br><br><br><br><br>"
      ]
    },
    {
      "cell_type": "markdown",
      "metadata": {
        "id": "VXdVEFGWd68x"
      },
      "source": [
        "## break statement\n",
        "\n",
        "This statement is used to terminate the loop. When python interpreter executes this statement, the loop is terminated even if it has not completely iterated over all the elements."
      ]
    },
    {
      "cell_type": "code",
      "metadata": {
        "colab": {
          "base_uri": "https://localhost:8080/"
        },
        "id": "DaDZeDQuzPmd",
        "outputId": "3b71561f-fb74-4092-86c1-f9b523175774"
      },
      "source": [
        "\n",
        "for i in range(1, 11):\n",
        "  if i % 5 == 0:\n",
        "    break\n",
        "  print(i)\n",
        "\n",
        "print('Done')"
      ],
      "execution_count": null,
      "outputs": [
        {
          "output_type": "stream",
          "text": [
            "1\n",
            "2\n",
            "3\n",
            "4\n",
            "Done\n"
          ],
          "name": "stdout"
        }
      ]
    },
    {
      "cell_type": "markdown",
      "metadata": {
        "id": "T5jf2CUATeRz"
      },
      "source": [
        "<br><br><br><br><br><br><br><br><br><br><br><br>"
      ]
    },
    {
      "cell_type": "markdown",
      "metadata": {
        "id": "uR36mv4hy2Gl"
      },
      "source": [
        "## Nested loops\n",
        "\n",
        "Just like `if ... else` construct, we can also nest while or for loops within each other as much as required. Care must be taken about indentation of the body. One must also take care of the looping variable and ensure that the loop terminates after finite iterations either due to break statement or after the conditions are satisfied.  \n",
        "\n",
        "Consider a for loop nested inside an outer for loop. The inner loop will be executed for each value of the outer loop.\n",
        "\n",
        "Consider the example below. \n",
        "\n",
        "The outer loop runs from x = 2 to 100. The inner loop tries to divide x by all numbers from 2 to n/2. If it is divisible by any number, then it is not a prime number, so we need to continue further."
      ]
    },
    {
      "cell_type": "code",
      "metadata": {
        "colab": {
          "base_uri": "https://localhost:8080/"
        },
        "id": "wusN8AD5bxIg",
        "outputId": "6f509f9d-8775-49d1-c66a-5591e796c4b3"
      },
      "source": [
        "for x in range(2, 101):\n",
        "  # a variable which stores whether x is divisible by any number or not\n",
        "  is_divisible = False\n",
        "  # Try to divide a number by all values from 2 to x//2\n",
        "  for y in range(2, x//2 + 1): \n",
        "    # If any of the division leads to a reminder of 0, it means that the number is not prime\n",
        "    if x % y == 0:\n",
        "      is_divisible = True\n",
        "      break\n",
        "  \n",
        "  # If number is not divisible then print that it is prime\n",
        "  if not is_divisible:\n",
        "    print(x, 'is a prime number')\n"
      ],
      "execution_count": null,
      "outputs": [
        {
          "output_type": "stream",
          "text": [
            "2 is a prime number\n",
            "3 is a prime number\n",
            "5 is a prime number\n",
            "7 is a prime number\n",
            "11 is a prime number\n",
            "13 is a prime number\n",
            "17 is a prime number\n",
            "19 is a prime number\n",
            "23 is a prime number\n",
            "29 is a prime number\n",
            "31 is a prime number\n",
            "37 is a prime number\n",
            "41 is a prime number\n",
            "43 is a prime number\n",
            "47 is a prime number\n",
            "53 is a prime number\n",
            "59 is a prime number\n",
            "61 is a prime number\n",
            "67 is a prime number\n",
            "71 is a prime number\n",
            "73 is a prime number\n",
            "79 is a prime number\n",
            "83 is a prime number\n",
            "89 is a prime number\n",
            "97 is a prime number\n"
          ],
          "name": "stdout"
        }
      ]
    },
    {
      "cell_type": "markdown",
      "metadata": {
        "id": "9lrk9EohTi5t"
      },
      "source": [
        "<br><br><br><br><br><br><br><br><br><br><br><br>"
      ]
    },
    {
      "cell_type": "markdown",
      "metadata": {
        "id": "iXToP4QlcdGP"
      },
      "source": [
        "# Summary\n",
        "\n",
        "- Programming is useful to talk to the computer and express our ideas\n",
        "- Python is one of the simplest yet very powerful programming language\n",
        "- We learnt how to take inputs from the user using `input` function and display outputs using `print` function\n",
        "- We used variables to store values and use it later in program\n",
        "- We saw how to use different types of operators and create expressions.\n",
        "- Complex Expressions, which contain multiple operators, are evaluated based on precidence of operators. Where the operators have same precidence, they are evaluated from left to right.\n",
        "- We looked at conditional execution using `if`, `if...else` and `if...elif...else` statements\n",
        "- The conditionals can be nested within each other as much as you like. Care must be taken about indentation\n",
        "- We used `for` and `while` loop to perform repititive computations.\n",
        "- `while` loop executes the body as long as the condition is valid. `for` loop executes the body for each element in its iterable.\n",
        "- We skipped statements in the loops using `continue` and we terminated loops using `break`\n",
        "- Just like conditional nesting, we saw how to use nested loops "
      ]
    }
  ]
}